from sklearn.preprocessing import FunctionTransformer
from sklearn.preprocessing import LabelEncoder, OneHotEncoder
from sklearn.preprocessing import StandardScaler
import pandas as pd
import numpy as np
import sklearn as sk
data=pd.read_csv('/content/Zomato-data-.csv')
print(data)
print(data.head())
print(data.tail())
print("------------data preprocessing steps---------------\n")
print("----------as the the rate is in fraction form ,converting it to rate to numeric------\n")
def extract_numeric_rate(column):
   data['rate'] = data['rate'].str.extract(r'(\d+\.\d+)').astype(float)

rate_transformer = FunctionTransformer(extract_numeric_rate)
data['rate'] = rate_transformer.transform(data['rate'])
print(data)

print("encoding categoriacal variables for online_order,book_table \n")
label_encoder = LabelEncoder()
data['online_order'] = data['online_order'].replace({'Yes': 1, 'No': 0})
data['book_table'] = data['book_table'].replace({'Yes': 1, 'No': 0})

print(data)

print("-------------normalising column name issues---------------- \n")
data['approx_cost(for two people)'] = data['approx_cost(for two people)'].astype(str).str.replace(',', '').astype(float)
numeric_cols = ['votes', 'approx_cost(for two people)']
scaler = StandardScaler()
data[numeric_cols] = scaler.fit_transform(data[numeric_cols])
print(data[numeric_cols])

print("-------------handling column name issue--------------")

data.columns = data.columns.str.replace(r'[()\s]', '_', regex=True)
print(data.columns)
